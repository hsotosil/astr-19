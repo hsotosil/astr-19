{
 "cells": [
  {
   "cell_type": "code",
   "execution_count": 24,
   "id": "ddc1c5c3-a3f3-4b41-b970-f5074fd83ddd",
   "metadata": {},
   "outputs": [],
   "source": [
    "import numpy as np"
   ]
  },
  {
   "cell_type": "markdown",
   "id": "bb43ad8d-4727-4ad3-9e7f-f907d6185dc0",
   "metadata": {},
   "source": [
    "Importing Numpy helps perform data analysis and access mathematical operations for arrays."
   ]
  },
  {
   "cell_type": "code",
   "execution_count": 25,
   "id": "f040ce82-044d-42f2-a21f-d148af35d6f5",
   "metadata": {},
   "outputs": [],
   "source": [
    "x = np.linspace(0.0, 2*np.pi, num=1000)"
   ]
  },
  {
   "cell_type": "markdown",
   "id": "58471554-ff32-49b8-9d16-25fdf2e557dd",
   "metadata": {},
   "source": [
    "Defines x in our function "
   ]
  },
  {
   "cell_type": "code",
   "execution_count": 26,
   "id": "aa8d89e6-53d7-46d4-ac2d-20d39b7f4217",
   "metadata": {},
   "outputs": [],
   "source": [
    "sinx = np.sin(x) \n",
    "cosx = np.cos(x)"
   ]
  },
  {
   "cell_type": "markdown",
   "id": "a4171751-f862-4b73-aa0e-c4da94257d43",
   "metadata": {},
   "source": [
    "Defines sinx as sin(x) and cosx as cos(x) respectfully"
   ]
  },
  {
   "cell_type": "code",
   "execution_count": 27,
   "id": "ac56ab83-8b6d-46ce-8965-6529a3c1e4d4",
   "metadata": {},
   "outputs": [
    {
     "name": "stdout",
     "output_type": "stream",
     "text": [
      "      x | sin(x)  | cos(x)\n",
      "---------------------------\n",
      "0.00000 | 0.00000 | 1.00000\n",
      "0.00629 | 0.00629 | 0.99998\n",
      "0.01258 | 0.01258 | 0.99992\n",
      "0.01887 | 0.01887 | 0.99982\n",
      "0.02516 | 0.02516 | 0.99968\n",
      "0.03145 | 0.03144 | 0.99951\n",
      "0.03774 | 0.03773 | 0.99929\n",
      "0.04403 | 0.04401 | 0.99903\n",
      "0.05032 | 0.05029 | 0.99873\n",
      "0.05661 | 0.05658 | 0.99840\n"
     ]
    }
   ],
   "source": [
    "print(f\"      x | sin(x)  | cos(x)\")\n",
    "print(f\"---------------------------\")\n",
    "\n",
    "for i in range(10):\n",
    "        print(f\"{x[i]:.5f} | {sinx[i]:.5f} | {cosx[i]:.5f}\")"
   ]
  },
  {
   "cell_type": "markdown",
   "id": "bc09c54d-1561-4046-93bc-f24012be90a3",
   "metadata": {},
   "source": [
    "Prints a makeshift table header which labels each column.\n",
    "Runs loop 10 times.\n",
    "Prints out the value of x[i] values with only 5 decimal places of precision.\n"
   ]
  }
 ],
 "metadata": {
  "kernelspec": {
   "display_name": "Python 3 (ipykernel)",
   "language": "python",
   "name": "python3"
  },
  "language_info": {
   "codemirror_mode": {
    "name": "ipython",
    "version": 3
   },
   "file_extension": ".py",
   "mimetype": "text/x-python",
   "name": "python",
   "nbconvert_exporter": "python",
   "pygments_lexer": "ipython3",
   "version": "3.11.5"
  }
 },
 "nbformat": 4,
 "nbformat_minor": 5
}
